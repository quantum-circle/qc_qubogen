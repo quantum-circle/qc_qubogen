{
 "cells": [
  {
   "cell_type": "markdown",
   "metadata": {},
   "source": [
    "# QUBO Generator \n",
    "\n",
    "----\n",
    "\n",
    "###### Note:\n",
    "If you viewing this notebook directly at github.com, the LaTeX formulas may not be rendered correctly. \n",
    "Thus, we highly recommend to use [nbviewer](https://nbviewer.jupyter.org/) for this purpose. \n",
    "\n",
    "You can view this notebook directly at: https://nbviewer.jupyter.org/github/quantum-circle/qc_qubogen/blob/master/examples/example.ipynb\n",
    "\n",
    "---\n",
    "\n",
    "<br>\n",
    "\n",
    "## A Minimal Example\n",
    "Let's assume that we are given the following combinatorial optimization problem:\n",
    "\n",
    "$$\\min _{x} f(x) = 2x + 3 \\; , $$\n",
    "\n",
    "where $x \\in \\{0, 1\\}$, i.e. a binary variable. Our goal is now to reformulate the above objective function as a QUBO model, i.e. a symmetric (or at least upper diagonal) matrix $\\mathbf{Q} $ and a constant offset term $c$, that can be described as: \n",
    "\n",
    "$$\\min _{\\mathbf{x}} f(\\mathbf{x}) = \\mathbf{x}^T \\mathbf{Q} \\mathbf{x} + c$$\n",
    "\n",
    "Note that we used $\\mathbf{x}$ here to denote a vector, yet in our example $\\mathbf{x}$ consists of only one element $x_i$.\n",
    "\n",
    "<br>\n",
    "\n",
    "To accomplish this task, we are going to use `qc_qubogen.QUBOModel` built-in functionality:\n",
    "1.   Define the objective function using sympy's symbolic variables to represent the binary variables $x_i$. This is be done by creating an instance of `sympy.Symbol`, which allows to use an arbitrary variable name (*str*), e.g. \"x_0\". \n",
    "2. We can then create an instance of `qc_qubogen.QUBOModel` and pass the previoulsy created objective function as first argument. \n",
    "3. Once the QUBO model is created, we can convert it to matrix form using the `qc_qubogen.QUBOModel().model_to_qubo()` method. Note that this method will not return the constant offset term $c$ by default, since it will not affect the optimization procedure. However, we can set the argument `return_offset=True`, to return both,  the QUBO matrix $\\mathbf{Q} $ as $2-$dim `numpdy.ndarray` **and** the constant $c$ as `float`. "
   ]
  },
  {
   "cell_type": "code",
   "execution_count": 1,
   "metadata": {},
   "outputs": [
    {
     "name": "stdout",
     "output_type": "stream",
     "text": [
      "QUBO matrix: Q = [[2.]]\n",
      "QUBO offset: c = 3.0\n"
     ]
    }
   ],
   "source": [
    "from sympy import Symbol\n",
    "from qc_qubogen import QUBOModel\n",
    "\n",
    "\n",
    "# 1. Create a symbolic binary variable with sympy.Symbol\n",
    "x_0 = Symbol(\"x_0\")\n",
    "\n",
    "# 2. Define the function to be minimized\n",
    "objective = 2*x_0 + 3\n",
    "\n",
    "# 3. Initialize the `QUBOModel` using the created objective function\n",
    "model = QUBOModel(objective)\n",
    "\n",
    "# 4. Convert the problem and return the QUBO matrix and offset constant\n",
    "qubo_matrix, qubo_offset = model.model_to_qubo(return_offset=True)\n",
    "\n",
    "print(f\"QUBO matrix: Q = {qubo_matrix}\")\n",
    "print(f\"QUBO offset: c = {qubo_offset}\")"
   ]
  },
  {
   "cell_type": "markdown",
   "metadata": {},
   "source": [
    "## Another Illustrative Example\n",
    "\n",
    "To illustrate a slightly more advanced example, we choose to solve the optimization problem given by Glover et. al.$^{[1]}$:\n",
    "\n",
    "$$ f(\\mathbf{x}) = -5x_0 -3x_1 -8x_2 -6x_3 + 4x_0x_1 + 8x_0x_2 + 2x_1x_2 + 10x_2x_3 \\; ,$$\n",
    "\n",
    "which will be converted to the QUBO problem:\n",
    "\n",
    "$$ f(\\mathbf{x})  = \\left(\\begin{matrix} x_0 & x_1 & x_3 & x_4 \\end{matrix}\\right) \\left(\\begin{matrix} -5 & 2 & 4 & 0 \\\\ 2 & -3 & 1 & 0 \\\\ 4 & 1 & -8 & 5 \\\\ 0 & 0 & 5 & -6 \\end{matrix} \\right) \\left(\\begin{matrix} x_0\\\\ x_1 \\\\ x_2 \\\\ x_3 \\end{matrix}\\right) $$\n",
    "\n",
    "Note that we omit the constant offset $c$ here, since $c = 0$.\n",
    "\n",
    "<br>\n",
    "\n",
    "Here, we're going to use the helper function `qc_qubogen.get_symbolic_binary_variables(n=4)` , which generates a list of $4$ `sympy.Symbol` symbolic binary variables.\n",
    "\n",
    "---\n",
    "\n",
    "[1] Glover, F., Kochenberger, G. and Du, Yu. Quantum Bridge Analytics I: a tutorial on formulating and using QUBO models. *Available at:* https://arxiv.org/pdf/1811.11538.pdf"
   ]
  },
  {
   "cell_type": "code",
   "execution_count": 2,
   "metadata": {},
   "outputs": [
    {
     "name": "stdout",
     "output_type": "stream",
     "text": [
      "QUBO matrix: Q = \n",
      "[[-5.  2.  4.  0.]\n",
      " [ 2. -3.  1.  0.]\n",
      " [ 4.  1. -8.  5.]\n",
      " [ 0.  0.  5. -6.]]\n"
     ]
    }
   ],
   "source": [
    "from qc_qubogen import QUBOModel, get_symbolic_binary_variables\n",
    "\n",
    "\n",
    "x = get_symbolic_binary_variables(n=4)\n",
    "\n",
    "objective = - 5*x[0] - 3*x[1] - 8*x[2] - 6*x[3] + 4*x[0]*x[1] + 8*x[0]*x[2] + 2*x[1]*x[2] + 10*x[2]*x[3]\n",
    "\n",
    "model = QUBOModel(objective)\n",
    "qubo_matrix, qubo_offset = model.model_to_qubo(return_offset=True)\n",
    "\n",
    "print(f\"QUBO matrix: Q = \\n{qubo_matrix}\")"
   ]
  }
 ],
 "metadata": {
  "kernelspec": {
   "display_name": "Python 3",
   "language": "python",
   "name": "python3"
  },
  "language_info": {
   "codemirror_mode": {
    "name": "ipython",
    "version": 3
   },
   "file_extension": ".py",
   "mimetype": "text/x-python",
   "name": "python",
   "nbconvert_exporter": "python",
   "pygments_lexer": "ipython3",
   "version": "3.7.4"
  }
 },
 "nbformat": 4,
 "nbformat_minor": 4
}
